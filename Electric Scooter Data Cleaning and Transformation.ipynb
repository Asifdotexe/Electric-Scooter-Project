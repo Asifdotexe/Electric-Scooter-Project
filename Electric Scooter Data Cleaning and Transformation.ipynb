{
 "cells": [
  {
   "cell_type": "markdown",
   "id": "e44b5f38",
   "metadata": {},
   "source": []
  },
  {
   "cell_type": "markdown",
   "id": "52adf87a",
   "metadata": {},
   "source": [
    "I am going to clean the data as the data we scraped from Flipkart isn't ready to work with. <br>\n",
    "List of things we need to take care of\n",
    "- remove '₹' and ',' from the `price` column\n",
    "- turn the `price` column into numeric datatype\n",
    "- split `review` column that has data of both number of ratings and number of reviews into two columns"
   ]
  },
  {
   "cell_type": "code",
   "execution_count": 29,
   "id": "470fafd0",
   "metadata": {},
   "outputs": [],
   "source": [
    "# importing libraries\n",
    "import pandas as pd"
   ]
  },
  {
   "cell_type": "code",
   "execution_count": 30,
   "id": "23f07c90",
   "metadata": {},
   "outputs": [
    {
     "data": {
      "text/html": [
       "<div>\n",
       "<style scoped>\n",
       "    .dataframe tbody tr th:only-of-type {\n",
       "        vertical-align: middle;\n",
       "    }\n",
       "\n",
       "    .dataframe tbody tr th {\n",
       "        vertical-align: top;\n",
       "    }\n",
       "\n",
       "    .dataframe thead th {\n",
       "        text-align: right;\n",
       "    }\n",
       "</style>\n",
       "<table border=\"1\" class=\"dataframe\">\n",
       "  <thead>\n",
       "    <tr style=\"text-align: right;\">\n",
       "      <th></th>\n",
       "      <th>company</th>\n",
       "      <th>name</th>\n",
       "      <th>price</th>\n",
       "      <th>rating</th>\n",
       "      <th>review</th>\n",
       "    </tr>\n",
       "  </thead>\n",
       "  <tbody>\n",
       "    <tr>\n",
       "      <th>0</th>\n",
       "      <td>Ampere</td>\n",
       "      <td>Ampere Magnus EX Booking for Ex-Showroom Price...</td>\n",
       "      <td>₹1,04,900</td>\n",
       "      <td>4.2</td>\n",
       "      <td>215 Ratings &amp; 39 Reviews</td>\n",
       "    </tr>\n",
       "    <tr>\n",
       "      <th>1</th>\n",
       "      <td>Ampere</td>\n",
       "      <td>Ampere Primus Booking for Ex-Showroom Price (W...</td>\n",
       "      <td>₹1,46,355</td>\n",
       "      <td>4.2</td>\n",
       "      <td>215 Ratings &amp; 39 Reviews</td>\n",
       "    </tr>\n",
       "    <tr>\n",
       "      <th>2</th>\n",
       "      <td>Ampere</td>\n",
       "      <td>Ampere Primus Booking for Ex-Showroom Price (W...</td>\n",
       "      <td>₹1,46,355</td>\n",
       "      <td>4.2</td>\n",
       "      <td>215 Ratings &amp; 39 Reviews</td>\n",
       "    </tr>\n",
       "    <tr>\n",
       "      <th>3</th>\n",
       "      <td>Ampere</td>\n",
       "      <td>Ampere Magnus EX Booking for Ex-Showroom Price...</td>\n",
       "      <td>₹1,00,900</td>\n",
       "      <td>4.2</td>\n",
       "      <td>215 Ratings &amp; 39 Reviews</td>\n",
       "    </tr>\n",
       "    <tr>\n",
       "      <th>4</th>\n",
       "      <td>Ampere</td>\n",
       "      <td>Ampere Magnus EX Booking for Ex-Showroom Price...</td>\n",
       "      <td>₹1,00,900</td>\n",
       "      <td>4.2</td>\n",
       "      <td>215 Ratings &amp; 39 Reviews</td>\n",
       "    </tr>\n",
       "  </tbody>\n",
       "</table>\n",
       "</div>"
      ],
      "text/plain": [
       "  company                                               name      price  \\\n",
       "0  Ampere  Ampere Magnus EX Booking for Ex-Showroom Price...  ₹1,04,900   \n",
       "1  Ampere  Ampere Primus Booking for Ex-Showroom Price (W...  ₹1,46,355   \n",
       "2  Ampere  Ampere Primus Booking for Ex-Showroom Price (W...  ₹1,46,355   \n",
       "3  Ampere  Ampere Magnus EX Booking for Ex-Showroom Price...  ₹1,00,900   \n",
       "4  Ampere  Ampere Magnus EX Booking for Ex-Showroom Price...  ₹1,00,900   \n",
       "\n",
       "   rating                    review  \n",
       "0     4.2  215 Ratings & 39 Reviews  \n",
       "1     4.2  215 Ratings & 39 Reviews  \n",
       "2     4.2  215 Ratings & 39 Reviews  \n",
       "3     4.2  215 Ratings & 39 Reviews  \n",
       "4     4.2  215 Ratings & 39 Reviews  "
      ]
     },
     "execution_count": 30,
     "metadata": {},
     "output_type": "execute_result"
    }
   ],
   "source": [
    "# reading file\n",
    "df = pd.read_csv('ev_scraped_data.csv')\n",
    "df.head()"
   ]
  },
  {
   "cell_type": "code",
   "execution_count": 31,
   "id": "6b68aabc",
   "metadata": {},
   "outputs": [
    {
     "data": {
      "text/html": [
       "<div>\n",
       "<style scoped>\n",
       "    .dataframe tbody tr th:only-of-type {\n",
       "        vertical-align: middle;\n",
       "    }\n",
       "\n",
       "    .dataframe tbody tr th {\n",
       "        vertical-align: top;\n",
       "    }\n",
       "\n",
       "    .dataframe thead th {\n",
       "        text-align: right;\n",
       "    }\n",
       "</style>\n",
       "<table border=\"1\" class=\"dataframe\">\n",
       "  <thead>\n",
       "    <tr style=\"text-align: right;\">\n",
       "      <th></th>\n",
       "      <th>company</th>\n",
       "      <th>name</th>\n",
       "      <th>price</th>\n",
       "      <th>rating</th>\n",
       "      <th>review</th>\n",
       "    </tr>\n",
       "  </thead>\n",
       "  <tbody>\n",
       "    <tr>\n",
       "      <th>50</th>\n",
       "      <td>Okaya</td>\n",
       "      <td>OKAYA ClassIQ Booking for Ex-Showroom Price (w...</td>\n",
       "      <td>₹74,499</td>\n",
       "      <td>3.6</td>\n",
       "      <td>21 Ratings &amp; 5 Reviews</td>\n",
       "    </tr>\n",
       "    <tr>\n",
       "      <th>51</th>\n",
       "      <td>Okaya</td>\n",
       "      <td>OKAYA Faast F2B Booking for Ex-Showroom Price ...</td>\n",
       "      <td>₹99,950</td>\n",
       "      <td>4.1</td>\n",
       "      <td>37 Ratings &amp; 12 Reviews</td>\n",
       "    </tr>\n",
       "    <tr>\n",
       "      <th>52</th>\n",
       "      <td>Vida</td>\n",
       "      <td>VIDA Powered by Hero V1 Pro Booking for Ex-Sho...</td>\n",
       "      <td>₹1,45,900</td>\n",
       "      <td>4.4</td>\n",
       "      <td>528 Ratings &amp; 84 Reviews</td>\n",
       "    </tr>\n",
       "    <tr>\n",
       "      <th>53</th>\n",
       "      <td>Vida</td>\n",
       "      <td>VIDA Powered by Hero V1 Pro Booking for Ex-Sho...</td>\n",
       "      <td>₹1,45,900</td>\n",
       "      <td>4.4</td>\n",
       "      <td>528 Ratings &amp; 84 Reviews</td>\n",
       "    </tr>\n",
       "    <tr>\n",
       "      <th>54</th>\n",
       "      <td>Vida</td>\n",
       "      <td>VIDA Powered by Hero V1 Plus Booking for Ex-Sh...</td>\n",
       "      <td>₹1,45,000</td>\n",
       "      <td>4.0</td>\n",
       "      <td>16 Ratings &amp; 1 Reviews</td>\n",
       "    </tr>\n",
       "    <tr>\n",
       "      <th>55</th>\n",
       "      <td>Vida</td>\n",
       "      <td>VIDA Powered by Hero V1 Pro Booking for Ex-Sho...</td>\n",
       "      <td>₹1,45,900</td>\n",
       "      <td>4.4</td>\n",
       "      <td>528 Ratings &amp; 84 Reviews</td>\n",
       "    </tr>\n",
       "    <tr>\n",
       "      <th>56</th>\n",
       "      <td>Vida</td>\n",
       "      <td>VIDA Powered by Hero V1 Plus Booking for Ex-Sh...</td>\n",
       "      <td>₹1,45,000</td>\n",
       "      <td>4.0</td>\n",
       "      <td>16 Ratings &amp; 1 Reviews</td>\n",
       "    </tr>\n",
       "    <tr>\n",
       "      <th>57</th>\n",
       "      <td>Vida</td>\n",
       "      <td>VIDA Powered by Hero V1 Plus Booking for Ex-Sh...</td>\n",
       "      <td>₹1,45,000</td>\n",
       "      <td>4.0</td>\n",
       "      <td>16 Ratings &amp; 1 Reviews</td>\n",
       "    </tr>\n",
       "    <tr>\n",
       "      <th>58</th>\n",
       "      <td>Vida</td>\n",
       "      <td>VIDA Powered by Hero V1 Pro Booking for Ex-Sho...</td>\n",
       "      <td>₹1,45,900</td>\n",
       "      <td>4.4</td>\n",
       "      <td>528 Ratings &amp; 84 Reviews</td>\n",
       "    </tr>\n",
       "    <tr>\n",
       "      <th>59</th>\n",
       "      <td>Vida</td>\n",
       "      <td>VIDA Powered by Hero V1 Pro Booking for Ex-Sho...</td>\n",
       "      <td>₹1,45,900</td>\n",
       "      <td>4.4</td>\n",
       "      <td>528 Ratings &amp; 84 Reviews</td>\n",
       "    </tr>\n",
       "  </tbody>\n",
       "</table>\n",
       "</div>"
      ],
      "text/plain": [
       "   company                                               name      price  \\\n",
       "50   Okaya  OKAYA ClassIQ Booking for Ex-Showroom Price (w...    ₹74,499   \n",
       "51   Okaya  OKAYA Faast F2B Booking for Ex-Showroom Price ...    ₹99,950   \n",
       "52    Vida  VIDA Powered by Hero V1 Pro Booking for Ex-Sho...  ₹1,45,900   \n",
       "53    Vida  VIDA Powered by Hero V1 Pro Booking for Ex-Sho...  ₹1,45,900   \n",
       "54    Vida  VIDA Powered by Hero V1 Plus Booking for Ex-Sh...  ₹1,45,000   \n",
       "55    Vida  VIDA Powered by Hero V1 Pro Booking for Ex-Sho...  ₹1,45,900   \n",
       "56    Vida  VIDA Powered by Hero V1 Plus Booking for Ex-Sh...  ₹1,45,000   \n",
       "57    Vida  VIDA Powered by Hero V1 Plus Booking for Ex-Sh...  ₹1,45,000   \n",
       "58    Vida  VIDA Powered by Hero V1 Pro Booking for Ex-Sho...  ₹1,45,900   \n",
       "59    Vida  VIDA Powered by Hero V1 Pro Booking for Ex-Sho...  ₹1,45,900   \n",
       "\n",
       "    rating                    review  \n",
       "50     3.6    21 Ratings & 5 Reviews  \n",
       "51     4.1   37 Ratings & 12 Reviews  \n",
       "52     4.4  528 Ratings & 84 Reviews  \n",
       "53     4.4  528 Ratings & 84 Reviews  \n",
       "54     4.0    16 Ratings & 1 Reviews  \n",
       "55     4.4  528 Ratings & 84 Reviews  \n",
       "56     4.0    16 Ratings & 1 Reviews  \n",
       "57     4.0    16 Ratings & 1 Reviews  \n",
       "58     4.4  528 Ratings & 84 Reviews  \n",
       "59     4.4  528 Ratings & 84 Reviews  "
      ]
     },
     "execution_count": 31,
     "metadata": {},
     "output_type": "execute_result"
    }
   ],
   "source": [
    "df.tail(10)"
   ]
  },
  {
   "cell_type": "markdown",
   "id": "f729efdb",
   "metadata": {},
   "source": [
    "Price data have comma separators and rupees symbol that won't allow us to turn it into numeric type so we need to tackle them first"
   ]
  },
  {
   "cell_type": "code",
   "execution_count": 32,
   "id": "d79dc87f",
   "metadata": {},
   "outputs": [
    {
     "name": "stdout",
     "output_type": "stream",
     "text": [
      "<class 'pandas.core.frame.DataFrame'>\n",
      "RangeIndex: 60 entries, 0 to 59\n",
      "Data columns (total 5 columns):\n",
      " #   Column   Non-Null Count  Dtype  \n",
      "---  ------   --------------  -----  \n",
      " 0   company  60 non-null     object \n",
      " 1   name     60 non-null     object \n",
      " 2   price    60 non-null     object \n",
      " 3   rating   60 non-null     float64\n",
      " 4   review   60 non-null     object \n",
      "dtypes: float64(1), object(4)\n",
      "memory usage: 2.5+ KB\n"
     ]
    }
   ],
   "source": [
    "df.info()"
   ]
  },
  {
   "cell_type": "markdown",
   "id": "c1d54148",
   "metadata": {},
   "source": [
    "We can see that `price` column is object data type and we want it to be int/float to make it useful for analysis"
   ]
  },
  {
   "cell_type": "code",
   "execution_count": 33,
   "id": "5b2c8d05",
   "metadata": {},
   "outputs": [],
   "source": [
    "# replacing '₹' (inr symbol) with '' (nothing) and replacing ',' (comma) with '' (nothing)\n",
    "df['price'] = df['price'].str.replace('₹','').str.replace(',','')"
   ]
  },
  {
   "cell_type": "code",
   "execution_count": 34,
   "id": "35f6b55e",
   "metadata": {
    "scrolled": true
   },
   "outputs": [
    {
     "data": {
      "text/plain": [
       "0    104900\n",
       "1    146355\n",
       "2    146355\n",
       "3    100900\n",
       "4    100900\n",
       "Name: price, dtype: object"
      ]
     },
     "execution_count": 34,
     "metadata": {},
     "output_type": "execute_result"
    }
   ],
   "source": [
    "df.price.head()"
   ]
  },
  {
   "cell_type": "markdown",
   "id": "894e6ac1",
   "metadata": {},
   "source": [
    "We have tackled the first issue, moving on to the next"
   ]
  },
  {
   "cell_type": "code",
   "execution_count": 35,
   "id": "9a957ce3",
   "metadata": {},
   "outputs": [
    {
     "name": "stdout",
     "output_type": "stream",
     "text": [
      "<class 'pandas.core.frame.DataFrame'>\n",
      "RangeIndex: 60 entries, 0 to 59\n",
      "Data columns (total 5 columns):\n",
      " #   Column   Non-Null Count  Dtype  \n",
      "---  ------   --------------  -----  \n",
      " 0   company  60 non-null     object \n",
      " 1   name     60 non-null     object \n",
      " 2   price    60 non-null     object \n",
      " 3   rating   60 non-null     float64\n",
      " 4   review   60 non-null     object \n",
      "dtypes: float64(1), object(4)\n",
      "memory usage: 2.5+ KB\n"
     ]
    }
   ],
   "source": [
    "df.info()"
   ]
  },
  {
   "cell_type": "code",
   "execution_count": 36,
   "id": "f9964633",
   "metadata": {},
   "outputs": [],
   "source": [
    "# converting price into numeric datatype\n",
    "df.price = pd.to_numeric(df.price)"
   ]
  },
  {
   "cell_type": "code",
   "execution_count": 37,
   "id": "01d14688",
   "metadata": {
    "scrolled": true
   },
   "outputs": [
    {
     "name": "stdout",
     "output_type": "stream",
     "text": [
      "<class 'pandas.core.frame.DataFrame'>\n",
      "RangeIndex: 60 entries, 0 to 59\n",
      "Data columns (total 5 columns):\n",
      " #   Column   Non-Null Count  Dtype  \n",
      "---  ------   --------------  -----  \n",
      " 0   company  60 non-null     object \n",
      " 1   name     60 non-null     object \n",
      " 2   price    60 non-null     int64  \n",
      " 3   rating   60 non-null     float64\n",
      " 4   review   60 non-null     object \n",
      "dtypes: float64(1), int64(1), object(3)\n",
      "memory usage: 2.5+ KB\n"
     ]
    }
   ],
   "source": [
    "df.info()"
   ]
  },
  {
   "cell_type": "markdown",
   "id": "6093408e",
   "metadata": {},
   "source": [
    "Here we have tackled the 2nd problem as well"
   ]
  },
  {
   "cell_type": "markdown",
   "id": "720d4525",
   "metadata": {},
   "source": [
    "Now moving on to the 3rd change I would like to make is, make two individual columns for:\n",
    "- rating count\n",
    "- review count\n",
    "\n",
    "as it would give us more room to analyse in future"
   ]
  },
  {
   "cell_type": "code",
   "execution_count": 38,
   "id": "2727dcab",
   "metadata": {},
   "outputs": [],
   "source": [
    "df[['rating_count','review_count']] = df.review.str.split('&', expand = True)"
   ]
  },
  {
   "cell_type": "code",
   "execution_count": 39,
   "id": "2b7c68eb",
   "metadata": {},
   "outputs": [
    {
     "data": {
      "text/html": [
       "<div>\n",
       "<style scoped>\n",
       "    .dataframe tbody tr th:only-of-type {\n",
       "        vertical-align: middle;\n",
       "    }\n",
       "\n",
       "    .dataframe tbody tr th {\n",
       "        vertical-align: top;\n",
       "    }\n",
       "\n",
       "    .dataframe thead th {\n",
       "        text-align: right;\n",
       "    }\n",
       "</style>\n",
       "<table border=\"1\" class=\"dataframe\">\n",
       "  <thead>\n",
       "    <tr style=\"text-align: right;\">\n",
       "      <th></th>\n",
       "      <th>company</th>\n",
       "      <th>name</th>\n",
       "      <th>price</th>\n",
       "      <th>rating</th>\n",
       "      <th>review</th>\n",
       "      <th>rating_count</th>\n",
       "      <th>review_count</th>\n",
       "    </tr>\n",
       "  </thead>\n",
       "  <tbody>\n",
       "    <tr>\n",
       "      <th>0</th>\n",
       "      <td>Ampere</td>\n",
       "      <td>Ampere Magnus EX Booking for Ex-Showroom Price...</td>\n",
       "      <td>104900</td>\n",
       "      <td>4.2</td>\n",
       "      <td>215 Ratings &amp; 39 Reviews</td>\n",
       "      <td>215 Ratings</td>\n",
       "      <td>39 Reviews</td>\n",
       "    </tr>\n",
       "    <tr>\n",
       "      <th>1</th>\n",
       "      <td>Ampere</td>\n",
       "      <td>Ampere Primus Booking for Ex-Showroom Price (W...</td>\n",
       "      <td>146355</td>\n",
       "      <td>4.2</td>\n",
       "      <td>215 Ratings &amp; 39 Reviews</td>\n",
       "      <td>215 Ratings</td>\n",
       "      <td>39 Reviews</td>\n",
       "    </tr>\n",
       "    <tr>\n",
       "      <th>2</th>\n",
       "      <td>Ampere</td>\n",
       "      <td>Ampere Primus Booking for Ex-Showroom Price (W...</td>\n",
       "      <td>146355</td>\n",
       "      <td>4.2</td>\n",
       "      <td>215 Ratings &amp; 39 Reviews</td>\n",
       "      <td>215 Ratings</td>\n",
       "      <td>39 Reviews</td>\n",
       "    </tr>\n",
       "  </tbody>\n",
       "</table>\n",
       "</div>"
      ],
      "text/plain": [
       "  company                                               name   price  rating  \\\n",
       "0  Ampere  Ampere Magnus EX Booking for Ex-Showroom Price...  104900     4.2   \n",
       "1  Ampere  Ampere Primus Booking for Ex-Showroom Price (W...  146355     4.2   \n",
       "2  Ampere  Ampere Primus Booking for Ex-Showroom Price (W...  146355     4.2   \n",
       "\n",
       "                     review  rating_count review_count  \n",
       "0  215 Ratings & 39 Reviews  215 Ratings    39 Reviews  \n",
       "1  215 Ratings & 39 Reviews  215 Ratings    39 Reviews  \n",
       "2  215 Ratings & 39 Reviews  215 Ratings    39 Reviews  "
      ]
     },
     "execution_count": 39,
     "metadata": {},
     "output_type": "execute_result"
    }
   ],
   "source": [
    "df.head(3)"
   ]
  },
  {
   "cell_type": "markdown",
   "id": "f875b8f9",
   "metadata": {},
   "source": [
    "now that we have those into two separate columns i.e `rating_count` and `review_count`, we can drop the original column i.e `review`"
   ]
  },
  {
   "cell_type": "code",
   "execution_count": 40,
   "id": "da686e1e",
   "metadata": {},
   "outputs": [],
   "source": [
    "df = df.drop('review',axis = 1)"
   ]
  },
  {
   "cell_type": "code",
   "execution_count": 41,
   "id": "04b95906",
   "metadata": {},
   "outputs": [
    {
     "data": {
      "text/html": [
       "<div>\n",
       "<style scoped>\n",
       "    .dataframe tbody tr th:only-of-type {\n",
       "        vertical-align: middle;\n",
       "    }\n",
       "\n",
       "    .dataframe tbody tr th {\n",
       "        vertical-align: top;\n",
       "    }\n",
       "\n",
       "    .dataframe thead th {\n",
       "        text-align: right;\n",
       "    }\n",
       "</style>\n",
       "<table border=\"1\" class=\"dataframe\">\n",
       "  <thead>\n",
       "    <tr style=\"text-align: right;\">\n",
       "      <th></th>\n",
       "      <th>company</th>\n",
       "      <th>name</th>\n",
       "      <th>price</th>\n",
       "      <th>rating</th>\n",
       "      <th>rating_count</th>\n",
       "      <th>review_count</th>\n",
       "    </tr>\n",
       "  </thead>\n",
       "  <tbody>\n",
       "    <tr>\n",
       "      <th>0</th>\n",
       "      <td>Ampere</td>\n",
       "      <td>Ampere Magnus EX Booking for Ex-Showroom Price...</td>\n",
       "      <td>104900</td>\n",
       "      <td>4.2</td>\n",
       "      <td>215 Ratings</td>\n",
       "      <td>39 Reviews</td>\n",
       "    </tr>\n",
       "    <tr>\n",
       "      <th>1</th>\n",
       "      <td>Ampere</td>\n",
       "      <td>Ampere Primus Booking for Ex-Showroom Price (W...</td>\n",
       "      <td>146355</td>\n",
       "      <td>4.2</td>\n",
       "      <td>215 Ratings</td>\n",
       "      <td>39 Reviews</td>\n",
       "    </tr>\n",
       "    <tr>\n",
       "      <th>2</th>\n",
       "      <td>Ampere</td>\n",
       "      <td>Ampere Primus Booking for Ex-Showroom Price (W...</td>\n",
       "      <td>146355</td>\n",
       "      <td>4.2</td>\n",
       "      <td>215 Ratings</td>\n",
       "      <td>39 Reviews</td>\n",
       "    </tr>\n",
       "  </tbody>\n",
       "</table>\n",
       "</div>"
      ],
      "text/plain": [
       "  company                                               name   price  rating  \\\n",
       "0  Ampere  Ampere Magnus EX Booking for Ex-Showroom Price...  104900     4.2   \n",
       "1  Ampere  Ampere Primus Booking for Ex-Showroom Price (W...  146355     4.2   \n",
       "2  Ampere  Ampere Primus Booking for Ex-Showroom Price (W...  146355     4.2   \n",
       "\n",
       "   rating_count review_count  \n",
       "0  215 Ratings    39 Reviews  \n",
       "1  215 Ratings    39 Reviews  \n",
       "2  215 Ratings    39 Reviews  "
      ]
     },
     "execution_count": 41,
     "metadata": {},
     "output_type": "execute_result"
    }
   ],
   "source": [
    "df.head(3)"
   ]
  },
  {
   "cell_type": "markdown",
   "id": "85d1a39c",
   "metadata": {},
   "source": [
    "The column `review` has been dropped"
   ]
  },
  {
   "cell_type": "markdown",
   "id": "789ebcef",
   "metadata": {},
   "source": [
    "So, since the new columns are called `rating_count` and `review_count`, they would make more sense if they were a numerical datatype\n",
    "For that\n",
    "- We need to remove the string part of the records\n",
    "- Convert their datatypes to numeric"
   ]
  },
  {
   "cell_type": "code",
   "execution_count": 42,
   "id": "83849e43",
   "metadata": {},
   "outputs": [
    {
     "data": {
      "text/html": [
       "<div>\n",
       "<style scoped>\n",
       "    .dataframe tbody tr th:only-of-type {\n",
       "        vertical-align: middle;\n",
       "    }\n",
       "\n",
       "    .dataframe tbody tr th {\n",
       "        vertical-align: top;\n",
       "    }\n",
       "\n",
       "    .dataframe thead th {\n",
       "        text-align: right;\n",
       "    }\n",
       "</style>\n",
       "<table border=\"1\" class=\"dataframe\">\n",
       "  <thead>\n",
       "    <tr style=\"text-align: right;\">\n",
       "      <th></th>\n",
       "      <th>company</th>\n",
       "      <th>name</th>\n",
       "      <th>price</th>\n",
       "      <th>rating</th>\n",
       "      <th>rating_count</th>\n",
       "      <th>review_count</th>\n",
       "    </tr>\n",
       "  </thead>\n",
       "  <tbody>\n",
       "    <tr>\n",
       "      <th>0</th>\n",
       "      <td>Ampere</td>\n",
       "      <td>Ampere Magnus EX Booking for Ex-Showroom Price...</td>\n",
       "      <td>104900</td>\n",
       "      <td>4.2</td>\n",
       "      <td>215</td>\n",
       "      <td>39 Reviews</td>\n",
       "    </tr>\n",
       "    <tr>\n",
       "      <th>1</th>\n",
       "      <td>Ampere</td>\n",
       "      <td>Ampere Primus Booking for Ex-Showroom Price (W...</td>\n",
       "      <td>146355</td>\n",
       "      <td>4.2</td>\n",
       "      <td>215</td>\n",
       "      <td>39 Reviews</td>\n",
       "    </tr>\n",
       "    <tr>\n",
       "      <th>2</th>\n",
       "      <td>Ampere</td>\n",
       "      <td>Ampere Primus Booking for Ex-Showroom Price (W...</td>\n",
       "      <td>146355</td>\n",
       "      <td>4.2</td>\n",
       "      <td>215</td>\n",
       "      <td>39 Reviews</td>\n",
       "    </tr>\n",
       "  </tbody>\n",
       "</table>\n",
       "</div>"
      ],
      "text/plain": [
       "  company                                               name   price  rating  \\\n",
       "0  Ampere  Ampere Magnus EX Booking for Ex-Showroom Price...  104900     4.2   \n",
       "1  Ampere  Ampere Primus Booking for Ex-Showroom Price (W...  146355     4.2   \n",
       "2  Ampere  Ampere Primus Booking for Ex-Showroom Price (W...  146355     4.2   \n",
       "\n",
       "  rating_count review_count  \n",
       "0        215     39 Reviews  \n",
       "1        215     39 Reviews  \n",
       "2        215     39 Reviews  "
      ]
     },
     "execution_count": 42,
     "metadata": {},
     "output_type": "execute_result"
    }
   ],
   "source": [
    "# removing the word 'Ratings' from the records\n",
    "df.rating_count = df.rating_count.str.replace('Ratings', '')\n",
    "df.head(3)"
   ]
  },
  {
   "cell_type": "code",
   "execution_count": 43,
   "id": "3f165536",
   "metadata": {},
   "outputs": [
    {
     "data": {
      "text/html": [
       "<div>\n",
       "<style scoped>\n",
       "    .dataframe tbody tr th:only-of-type {\n",
       "        vertical-align: middle;\n",
       "    }\n",
       "\n",
       "    .dataframe tbody tr th {\n",
       "        vertical-align: top;\n",
       "    }\n",
       "\n",
       "    .dataframe thead th {\n",
       "        text-align: right;\n",
       "    }\n",
       "</style>\n",
       "<table border=\"1\" class=\"dataframe\">\n",
       "  <thead>\n",
       "    <tr style=\"text-align: right;\">\n",
       "      <th></th>\n",
       "      <th>company</th>\n",
       "      <th>name</th>\n",
       "      <th>price</th>\n",
       "      <th>rating</th>\n",
       "      <th>rating_count</th>\n",
       "      <th>review_count</th>\n",
       "    </tr>\n",
       "  </thead>\n",
       "  <tbody>\n",
       "    <tr>\n",
       "      <th>0</th>\n",
       "      <td>Ampere</td>\n",
       "      <td>Ampere Magnus EX Booking for Ex-Showroom Price...</td>\n",
       "      <td>104900</td>\n",
       "      <td>4.2</td>\n",
       "      <td>215</td>\n",
       "      <td>39</td>\n",
       "    </tr>\n",
       "    <tr>\n",
       "      <th>1</th>\n",
       "      <td>Ampere</td>\n",
       "      <td>Ampere Primus Booking for Ex-Showroom Price (W...</td>\n",
       "      <td>146355</td>\n",
       "      <td>4.2</td>\n",
       "      <td>215</td>\n",
       "      <td>39</td>\n",
       "    </tr>\n",
       "    <tr>\n",
       "      <th>2</th>\n",
       "      <td>Ampere</td>\n",
       "      <td>Ampere Primus Booking for Ex-Showroom Price (W...</td>\n",
       "      <td>146355</td>\n",
       "      <td>4.2</td>\n",
       "      <td>215</td>\n",
       "      <td>39</td>\n",
       "    </tr>\n",
       "  </tbody>\n",
       "</table>\n",
       "</div>"
      ],
      "text/plain": [
       "  company                                               name   price  rating  \\\n",
       "0  Ampere  Ampere Magnus EX Booking for Ex-Showroom Price...  104900     4.2   \n",
       "1  Ampere  Ampere Primus Booking for Ex-Showroom Price (W...  146355     4.2   \n",
       "2  Ampere  Ampere Primus Booking for Ex-Showroom Price (W...  146355     4.2   \n",
       "\n",
       "  rating_count review_count  \n",
       "0        215            39   \n",
       "1        215            39   \n",
       "2        215            39   "
      ]
     },
     "execution_count": 43,
     "metadata": {},
     "output_type": "execute_result"
    }
   ],
   "source": [
    "# removing the word 'Reviews' from the records\n",
    "df.review_count = df.review_count.str.replace(\"Reviews\", '')\n",
    "df.head(3)"
   ]
  },
  {
   "cell_type": "markdown",
   "id": "644b1c3c",
   "metadata": {},
   "source": [
    "That takes care of the string within the record, we heading towards changing it's datatype"
   ]
  },
  {
   "cell_type": "code",
   "execution_count": 44,
   "id": "2ffff7a7",
   "metadata": {},
   "outputs": [
    {
     "name": "stdout",
     "output_type": "stream",
     "text": [
      "<class 'pandas.core.frame.DataFrame'>\n",
      "RangeIndex: 60 entries, 0 to 59\n",
      "Data columns (total 6 columns):\n",
      " #   Column        Non-Null Count  Dtype  \n",
      "---  ------        --------------  -----  \n",
      " 0   company       60 non-null     object \n",
      " 1   name          60 non-null     object \n",
      " 2   price         60 non-null     int64  \n",
      " 3   rating        60 non-null     float64\n",
      " 4   rating_count  60 non-null     object \n",
      " 5   review_count  60 non-null     object \n",
      "dtypes: float64(1), int64(1), object(4)\n",
      "memory usage: 2.9+ KB\n"
     ]
    }
   ],
   "source": [
    "df.info()"
   ]
  },
  {
   "cell_type": "code",
   "execution_count": 45,
   "id": "20fed0f3",
   "metadata": {},
   "outputs": [],
   "source": [
    "df.rating_count = df.rating_count.str.strip()"
   ]
  },
  {
   "cell_type": "code",
   "execution_count": 46,
   "id": "df8f224e",
   "metadata": {},
   "outputs": [],
   "source": [
    "df.rating_count = pd.to_numeric(df.rating_count)"
   ]
  },
  {
   "cell_type": "code",
   "execution_count": 47,
   "id": "b8605aa3",
   "metadata": {},
   "outputs": [
    {
     "name": "stdout",
     "output_type": "stream",
     "text": [
      "<class 'pandas.core.frame.DataFrame'>\n",
      "RangeIndex: 60 entries, 0 to 59\n",
      "Data columns (total 6 columns):\n",
      " #   Column        Non-Null Count  Dtype  \n",
      "---  ------        --------------  -----  \n",
      " 0   company       60 non-null     object \n",
      " 1   name          60 non-null     object \n",
      " 2   price         60 non-null     int64  \n",
      " 3   rating        60 non-null     float64\n",
      " 4   rating_count  60 non-null     int64  \n",
      " 5   review_count  60 non-null     object \n",
      "dtypes: float64(1), int64(2), object(3)\n",
      "memory usage: 2.9+ KB\n"
     ]
    }
   ],
   "source": [
    "df.info()"
   ]
  },
  {
   "cell_type": "code",
   "execution_count": 48,
   "id": "d4e78952",
   "metadata": {},
   "outputs": [
    {
     "ename": "ValueError",
     "evalue": "Unable to parse string \" 39 \" at position 0",
     "output_type": "error",
     "traceback": [
      "\u001b[1;31m---------------------------------------------------------------------------\u001b[0m",
      "\u001b[1;31mValueError\u001b[0m                                Traceback (most recent call last)",
      "File \u001b[1;32m~\\anaconda3\\Lib\\site-packages\\pandas\\_libs\\lib.pyx:2280\u001b[0m, in \u001b[0;36mpandas._libs.lib.maybe_convert_numeric\u001b[1;34m()\u001b[0m\n",
      "\u001b[1;31mValueError\u001b[0m: Unable to parse string \" 39 \"",
      "\nDuring handling of the above exception, another exception occurred:\n",
      "\u001b[1;31mValueError\u001b[0m                                Traceback (most recent call last)",
      "Cell \u001b[1;32mIn[48], line 1\u001b[0m\n\u001b[1;32m----> 1\u001b[0m pd\u001b[38;5;241m.\u001b[39mto_numeric(df\u001b[38;5;241m.\u001b[39mreview_count)\n",
      "File \u001b[1;32m~\\anaconda3\\Lib\\site-packages\\pandas\\core\\tools\\numeric.py:217\u001b[0m, in \u001b[0;36mto_numeric\u001b[1;34m(arg, errors, downcast, dtype_backend)\u001b[0m\n\u001b[0;32m    215\u001b[0m coerce_numeric \u001b[38;5;241m=\u001b[39m errors \u001b[38;5;129;01mnot\u001b[39;00m \u001b[38;5;129;01min\u001b[39;00m (\u001b[38;5;124m\"\u001b[39m\u001b[38;5;124mignore\u001b[39m\u001b[38;5;124m\"\u001b[39m, \u001b[38;5;124m\"\u001b[39m\u001b[38;5;124mraise\u001b[39m\u001b[38;5;124m\"\u001b[39m)\n\u001b[0;32m    216\u001b[0m \u001b[38;5;28;01mtry\u001b[39;00m:\n\u001b[1;32m--> 217\u001b[0m     values, new_mask \u001b[38;5;241m=\u001b[39m lib\u001b[38;5;241m.\u001b[39mmaybe_convert_numeric(  \u001b[38;5;66;03m# type: ignore[call-overload]  # noqa\u001b[39;00m\n\u001b[0;32m    218\u001b[0m         values,\n\u001b[0;32m    219\u001b[0m         \u001b[38;5;28mset\u001b[39m(),\n\u001b[0;32m    220\u001b[0m         coerce_numeric\u001b[38;5;241m=\u001b[39mcoerce_numeric,\n\u001b[0;32m    221\u001b[0m         convert_to_masked_nullable\u001b[38;5;241m=\u001b[39mdtype_backend \u001b[38;5;129;01mis\u001b[39;00m \u001b[38;5;129;01mnot\u001b[39;00m lib\u001b[38;5;241m.\u001b[39mno_default\n\u001b[0;32m    222\u001b[0m         \u001b[38;5;129;01mor\u001b[39;00m \u001b[38;5;28misinstance\u001b[39m(values_dtype, StringDtype),\n\u001b[0;32m    223\u001b[0m     )\n\u001b[0;32m    224\u001b[0m \u001b[38;5;28;01mexcept\u001b[39;00m (\u001b[38;5;167;01mValueError\u001b[39;00m, \u001b[38;5;167;01mTypeError\u001b[39;00m):\n\u001b[0;32m    225\u001b[0m     \u001b[38;5;28;01mif\u001b[39;00m errors \u001b[38;5;241m==\u001b[39m \u001b[38;5;124m\"\u001b[39m\u001b[38;5;124mraise\u001b[39m\u001b[38;5;124m\"\u001b[39m:\n",
      "File \u001b[1;32m~\\anaconda3\\Lib\\site-packages\\pandas\\_libs\\lib.pyx:2322\u001b[0m, in \u001b[0;36mpandas._libs.lib.maybe_convert_numeric\u001b[1;34m()\u001b[0m\n",
      "\u001b[1;31mValueError\u001b[0m: Unable to parse string \" 39 \" at position 0"
     ]
    }
   ],
   "source": [
    "pd.to_numeric(df.review_count)"
   ]
  },
  {
   "attachments": {
    "Screenshot%202023-11-27%20032620.png": {
     "image/png": "[encoded data removed]"
    }
   },
   "cell_type": "markdown",
   "id": "ef8ca208",
   "metadata": {},
   "source": [
    "![Screenshot%202023-11-27%20032620.png](attachment:Screenshot%202023-11-27%20032620.png)"
   ]
  },
  {
   "cell_type": "markdown",
   "id": "c5007f03",
   "metadata": {},
   "source": [
    "The above is an image of the error that I encountered while changing the datatype of the `review_count` column <br>\n",
    "and as you can see in the error message, it shows white spaces before and after the number. <br>\n",
    "hence using the `strip()` function should help"
   ]
  },
  {
   "cell_type": "code",
   "execution_count": 49,
   "id": "bc95c143",
   "metadata": {},
   "outputs": [],
   "source": [
    "df.review_count = df.review_count.str.strip()"
   ]
  },
  {
   "cell_type": "code",
   "execution_count": 50,
   "id": "218ab91d",
   "metadata": {},
   "outputs": [],
   "source": [
    "df.review_count = pd.to_numeric(df.review_count)"
   ]
  },
  {
   "cell_type": "code",
   "execution_count": 51,
   "id": "c819bbed",
   "metadata": {},
   "outputs": [
    {
     "name": "stdout",
     "output_type": "stream",
     "text": [
      "<class 'pandas.core.frame.DataFrame'>\n",
      "RangeIndex: 60 entries, 0 to 59\n",
      "Data columns (total 6 columns):\n",
      " #   Column        Non-Null Count  Dtype  \n",
      "---  ------        --------------  -----  \n",
      " 0   company       60 non-null     object \n",
      " 1   name          60 non-null     object \n",
      " 2   price         60 non-null     int64  \n",
      " 3   rating        60 non-null     float64\n",
      " 4   rating_count  60 non-null     int64  \n",
      " 5   review_count  60 non-null     int64  \n",
      "dtypes: float64(1), int64(3), object(2)\n",
      "memory usage: 2.9+ KB\n"
     ]
    }
   ],
   "source": [
    "df.info()"
   ]
  },
  {
   "cell_type": "markdown",
   "id": "3c15ec71",
   "metadata": {},
   "source": [
    "I have made both `rating_count` and `review_count` into numeric datatype"
   ]
  },
  {
   "cell_type": "markdown",
   "id": "a1369618",
   "metadata": {},
   "source": [
    "Finally, Done with all the data cleaning and transformations we needed to make <br>\n",
    "Now I will export the cleaned dataset into a CSV file"
   ]
  },
  {
   "cell_type": "code",
   "execution_count": 52,
   "id": "eed95ba9",
   "metadata": {},
   "outputs": [],
   "source": [
    "df.to_csv('ev_cleaned_data', ',', index = False, encoding= 'UTF-8')"
   ]
  },
  {
   "cell_type": "code",
   "execution_count": 53,
   "id": "c7fe3779",
   "metadata": {},
   "outputs": [
    {
     "data": {
      "text/html": [
       "<div>\n",
       "<style scoped>\n",
       "    .dataframe tbody tr th:only-of-type {\n",
       "        vertical-align: middle;\n",
       "    }\n",
       "\n",
       "    .dataframe tbody tr th {\n",
       "        vertical-align: top;\n",
       "    }\n",
       "\n",
       "    .dataframe thead th {\n",
       "        text-align: right;\n",
       "    }\n",
       "</style>\n",
       "<table border=\"1\" class=\"dataframe\">\n",
       "  <thead>\n",
       "    <tr style=\"text-align: right;\">\n",
       "      <th></th>\n",
       "      <th>company</th>\n",
       "      <th>name</th>\n",
       "      <th>price</th>\n",
       "      <th>rating</th>\n",
       "      <th>rating_count</th>\n",
       "      <th>review_count</th>\n",
       "    </tr>\n",
       "  </thead>\n",
       "  <tbody>\n",
       "    <tr>\n",
       "      <th>51</th>\n",
       "      <td>Okaya</td>\n",
       "      <td>OKAYA Faast F2B Booking for Ex-Showroom Price ...</td>\n",
       "      <td>99950</td>\n",
       "      <td>4.1</td>\n",
       "      <td>37</td>\n",
       "      <td>12</td>\n",
       "    </tr>\n",
       "    <tr>\n",
       "      <th>45</th>\n",
       "      <td>Okaya</td>\n",
       "      <td>OKAYA Faast F2F Booking for Ex-Showroom Price ...</td>\n",
       "      <td>93999</td>\n",
       "      <td>4.0</td>\n",
       "      <td>4</td>\n",
       "      <td>0</td>\n",
       "    </tr>\n",
       "    <tr>\n",
       "      <th>42</th>\n",
       "      <td>Okaya</td>\n",
       "      <td>OKAYA Faast F2F Booking for Ex-Showroom Price ...</td>\n",
       "      <td>93999</td>\n",
       "      <td>4.0</td>\n",
       "      <td>4</td>\n",
       "      <td>0</td>\n",
       "    </tr>\n",
       "    <tr>\n",
       "      <th>58</th>\n",
       "      <td>Vida</td>\n",
       "      <td>VIDA Powered by Hero V1 Pro Booking for Ex-Sho...</td>\n",
       "      <td>145900</td>\n",
       "      <td>4.4</td>\n",
       "      <td>528</td>\n",
       "      <td>84</td>\n",
       "    </tr>\n",
       "    <tr>\n",
       "      <th>55</th>\n",
       "      <td>Vida</td>\n",
       "      <td>VIDA Powered by Hero V1 Pro Booking for Ex-Sho...</td>\n",
       "      <td>145900</td>\n",
       "      <td>4.4</td>\n",
       "      <td>528</td>\n",
       "      <td>84</td>\n",
       "    </tr>\n",
       "    <tr>\n",
       "      <th>32</th>\n",
       "      <td>Okaya</td>\n",
       "      <td>OKAYA FAAST F4 Booking for Ex-Showroom Price (...</td>\n",
       "      <td>132990</td>\n",
       "      <td>4.3</td>\n",
       "      <td>48</td>\n",
       "      <td>5</td>\n",
       "    </tr>\n",
       "    <tr>\n",
       "      <th>24</th>\n",
       "      <td>Bounce Infinity</td>\n",
       "      <td>Bounce Infinity E1 Limited Edition Booking for...</td>\n",
       "      <td>114208</td>\n",
       "      <td>4.0</td>\n",
       "      <td>96</td>\n",
       "      <td>31</td>\n",
       "    </tr>\n",
       "    <tr>\n",
       "      <th>18</th>\n",
       "      <td>Bgauss</td>\n",
       "      <td>BGauss BG C12i Ex Booking for Ex-Showroom Pric...</td>\n",
       "      <td>105000</td>\n",
       "      <td>3.9</td>\n",
       "      <td>12</td>\n",
       "      <td>5</td>\n",
       "    </tr>\n",
       "    <tr>\n",
       "      <th>22</th>\n",
       "      <td>Bgauss</td>\n",
       "      <td>BGauss BG D15i Booking for Ex-Showroom Price (...</td>\n",
       "      <td>134514</td>\n",
       "      <td>4.4</td>\n",
       "      <td>25</td>\n",
       "      <td>6</td>\n",
       "    </tr>\n",
       "    <tr>\n",
       "      <th>28</th>\n",
       "      <td>Okaya</td>\n",
       "      <td>OKAYA Faast F2B Booking for Ex-Showroom Price ...</td>\n",
       "      <td>99950</td>\n",
       "      <td>4.1</td>\n",
       "      <td>37</td>\n",
       "      <td>12</td>\n",
       "    </tr>\n",
       "  </tbody>\n",
       "</table>\n",
       "</div>"
      ],
      "text/plain": [
       "            company                                               name  \\\n",
       "51            Okaya  OKAYA Faast F2B Booking for Ex-Showroom Price ...   \n",
       "45            Okaya  OKAYA Faast F2F Booking for Ex-Showroom Price ...   \n",
       "42            Okaya  OKAYA Faast F2F Booking for Ex-Showroom Price ...   \n",
       "58             Vida  VIDA Powered by Hero V1 Pro Booking for Ex-Sho...   \n",
       "55             Vida  VIDA Powered by Hero V1 Pro Booking for Ex-Sho...   \n",
       "32            Okaya  OKAYA FAAST F4 Booking for Ex-Showroom Price (...   \n",
       "24  Bounce Infinity  Bounce Infinity E1 Limited Edition Booking for...   \n",
       "18           Bgauss  BGauss BG C12i Ex Booking for Ex-Showroom Pric...   \n",
       "22           Bgauss  BGauss BG D15i Booking for Ex-Showroom Price (...   \n",
       "28            Okaya  OKAYA Faast F2B Booking for Ex-Showroom Price ...   \n",
       "\n",
       "     price  rating  rating_count  review_count  \n",
       "51   99950     4.1            37            12  \n",
       "45   93999     4.0             4             0  \n",
       "42   93999     4.0             4             0  \n",
       "58  145900     4.4           528            84  \n",
       "55  145900     4.4           528            84  \n",
       "32  132990     4.3            48             5  \n",
       "24  114208     4.0            96            31  \n",
       "18  105000     3.9            12             5  \n",
       "22  134514     4.4            25             6  \n",
       "28   99950     4.1            37            12  "
      ]
     },
     "execution_count": 53,
     "metadata": {},
     "output_type": "execute_result"
    }
   ],
   "source": [
    "# reading the file to make sure everything exported properly\n",
    "pd.read_csv('ev_cleaned_data').sample(10)"
   ]
  },
  {
   "cell_type": "markdown",
   "id": "e6db9900",
   "metadata": {},
   "source": [
    "<strong>Author</strong> <br>\n",
    "Asif Sayyed<hr>\n",
    "<b> Thanks for reading my code, ⭐ Star my repository if you find it useful </b><br>\n",
    "<div>\n",
    "    <li><a href=\"https://www.linkedin.com/in/sayyed-asif/\">LinkedIn</a></li>\n",
    "    <li><a href=\"https://www.credly.com/users/asif-sayyed.fef49659/badges\">Credly</a></li>\n",
    "    <li><a href=\"https://asifdotexe.github.io/\">Portfolio</a></li>\n",
    "<div>"
   ]
  }
 ],
 "metadata": {
  "kernelspec": {
   "display_name": "Python 3 (ipykernel)",
   "language": "python",
   "name": "python3"
  },
  "language_info": {
   "codemirror_mode": {
    "name": "ipython",
    "version": 3
   },
   "file_extension": ".py",
   "mimetype": "text/x-python",
   "name": "python",
   "nbconvert_exporter": "python",
   "pygments_lexer": "ipython3",
   "version": "3.11.3"
  }
 },
 "nbformat": 4,
 "nbformat_minor": 5
}
